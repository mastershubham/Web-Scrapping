{
  "nbformat": 4,
  "nbformat_minor": 0,
  "metadata": {
    "colab": {
      "provenance": []
    },
    "kernelspec": {
      "name": "python3",
      "display_name": "Python 3"
    },
    "language_info": {
      "name": "python"
    }
  },
  "cells": [
    {
      "cell_type": "code",
      "execution_count": null,
      "metadata": {
        "id": "uGih4uFKR45F"
      },
      "outputs": [],
      "source": [
        "import requests\n",
        "import re\n",
        "\n",
        "def find_links(url):\n",
        "  response = requests.get(url)\n",
        "  html_content = response.text\n",
        "  matching_pattern = re.compile(r'<a[^>]+href=[\"\\'](http.*)[\"\\']')\n",
        "  links = matching_pattern.findall(html_content)\n",
        "  print(f'Found {len(links)} links..')\n",
        "  for link in links:\n",
        "    print(link)\n",
        "  return None"
      ]
    },
    {
      "cell_type": "code",
      "source": [
        "url = \"https://www.cs.toronto.edu/~hinton/\"\n",
        "new = \"https://www.cse.iitd.ac.in/~rahulgarg/Teaching/2016/COL786.htm\"\n",
        "find_links(url)"
      ],
      "metadata": {
        "colab": {
          "base_uri": "https://localhost:8080/"
        },
        "id": "3O2ljxtqqA1l",
        "outputId": "3d0cd598-3ffb-47cb-9afe-3e637c34430f"
      },
      "execution_count": null,
      "outputs": [
        {
          "output_type": "stream",
          "name": "stdout",
          "text": [
            "Found 29 links..\n",
            "http://www.cs.toronto.edu/~tijmen/csc321/\n",
            "http://www.youtube.com/watch?v=DleXA5ADG78\n",
            "http://www.youtube.com/watch?v=AyzOUbkUf3M\n",
            "http://www.youtube.com/watch?v=VdIURAu1-aU\n",
            "http://www.cbc.ca/quirks/episode/2011/02/19/february-19-2011/\n",
            "http://www.cbc.ca/radio/thecurrent/the-current-for-may-5-2015-1.3061292\n",
            "http://videolectures.net/jul09_hinton_deeplearn/\n",
            "http://www.cs.toronto.edu/~hinton/deeprefs.html\n",
            "http://www.cs.nyu.edu/~yann/deep07/videos/mov010.avi\n",
            "http://www.cs.toronto.edu/~hinton/absps/transauto6.pdf\n",
            "http://www.cs.toronto.edu/~hinton/csc2515/deeprefs.html\n",
            "http://www.cs.toronto.edu/~amnih/cifar/\n",
            "http://www.cs.toronto.edu/~vnair/ciar/\n",
            "http://www.cs.toronto.edu/~hinton/digits.html\n",
            "http://www.cs.toronto.edu/~hinton/glovetalk.mov\n",
            "http://www.cs.toronto.edu/~hinton/MatlabForSciencePaper.html\n",
            "http://homepage.tudelft.nl/19j49/t-SNE.html\n",
            "http://learning.cs.toronto.edu\n",
            "http://www.cs.toronto.edu/~hinton\n",
            "http://www.toronto.edu/\n",
            "https://www.cs.toronto.edu/~hinton/FFA13.pdf\n",
            "http://vision.stanford.edu/imagenet/ilsvrc2012/results_prelim.html\n",
            "http://blog.kaggle.com/2012/11/01/deep-learning-how-i-did-it-merck-1st-place-interview/\n",
            "http://blog.kaggle.com/2013/05/06/qa-with-job-salary-prediction-first-prize-winner-vlad-mnih/\n",
            "http://blog.kaggle.com/2012/11/02/t-distributed-stochastic-neighbor-embedding-wins-merck-viz-challenge/\n",
            "http://www.cs.toronto.edu/~hinton/digits.html\n",
            "http://www.cs.toronto.edu/~hinton/science.pdf\n",
            "http://www.cs.toronto.edu/~hinton/absps/science_som.pdf\n",
            "http://www.cs.toronto.edu/~hinton/MatlabForSciencePaper.html\n"
          ]
        }
      ]
    }
  ]
}